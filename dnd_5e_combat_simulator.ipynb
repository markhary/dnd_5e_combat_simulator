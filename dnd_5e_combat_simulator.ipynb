{
 "cells": [
  {
   "cell_type": "code",
   "execution_count": 69,
   "id": "7898df6b",
   "metadata": {
    "ExecuteTime": {
     "end_time": "2023-09-02T01:11:21.792179Z",
     "start_time": "2023-09-02T01:11:21.780811Z"
    }
   },
   "outputs": [
    {
     "name": "stderr",
     "output_type": "stream",
     "text": [
      "DEBUG:Loaded backend module://matplotlib_inline.backend_inline version unknown.\n"
     ]
    }
   ],
   "source": [
    "import logging\n",
    "import json\n",
    "import random\n",
    "\n",
    "from collections import OrderedDict\n",
    "def jsonDefault(OrderedDict):\n",
    "    return OrderedDict.__dict__\n",
    "\n",
    "import numpy as np\n",
    "import pandas as pd\n",
    "import matplotlib.pyplot as plt\n",
    "import matplotlib.dates as mdates\n",
    "import seaborn as sns\n",
    "\n",
    "%matplotlib inline"
   ]
  },
  {
   "cell_type": "code",
   "execution_count": 70,
   "id": "320ea581",
   "metadata": {
    "ExecuteTime": {
     "end_time": "2023-09-02T01:11:23.111410Z",
     "start_time": "2023-09-02T01:11:23.106956Z"
    }
   },
   "outputs": [],
   "source": [
    "logging.basicConfig(format='%(levelname)s %(funcName):%(message)s', level=logging.DEBUG)"
   ]
  },
  {
   "cell_type": "code",
   "execution_count": 71,
   "id": "3ef1a685",
   "metadata": {
    "ExecuteTime": {
     "end_time": "2023-09-02T01:11:23.539391Z",
     "start_time": "2023-09-02T01:11:23.534778Z"
    }
   },
   "outputs": [],
   "source": [
    "def roll_dice(number, die_type, modifier):\n",
    "    roll = 0\n",
    "    for _ in range(number):\n",
    "        roll = roll + random.randint(1, die_type)\n",
    "    roll = roll + modifier\n",
    "    logging.debug(f\"{number}d{die_type}+{modifier} = {roll}\")\n",
    "    return roll"
   ]
  },
  {
   "cell_type": "code",
   "execution_count": 84,
   "id": "f9464b5b",
   "metadata": {
    "ExecuteTime": {
     "end_time": "2023-09-02T01:23:36.139397Z",
     "start_time": "2023-09-02T01:23:36.124841Z"
    }
   },
   "outputs": [],
   "source": [
    "Modifier = {\n",
    "    1: -5,\n",
    "    2: -4,\n",
    "    3: -4,\n",
    "    4: -3,\n",
    "    5: -3,    \n",
    "    6: -2,\n",
    "    7: -2,\n",
    "    8: -1,\n",
    "    9: -1,\n",
    "    10: 0,\n",
    "    11: 0,\n",
    "    12: 1,\n",
    "    13: 1,\n",
    "    14: 2,\n",
    "    15: 2,\n",
    "    16: 3,\n",
    "    17: 3,\n",
    "    18: 4,\n",
    "    19: 4,\n",
    "    20: 5,\n",
    "    21: 5,\n",
    "    22: 6,\n",
    "    23: 6,\n",
    "    24: 7,\n",
    "    25: 7,\n",
    "    26: 8,\n",
    "    27: 8,\n",
    "    28: 9,\n",
    "    29: 9,\n",
    "    30: 10\n",
    "}\n",
    "\n",
    "class Attack:\n",
    "    def __new__(cls, *args, **kwargs):\n",
    "        return super().__new__(cls)\n",
    "    def __init__(self, name=\"unnamed\", to_hit_modifier=0, damage_dice_type=1, number_damage_dice=1,\n",
    "                damage_modifier=-1, number_targets=1, attack_save_attribute=\"none\",\n",
    "                attack_save_difficulty=0, has_advantage=False):\n",
    "        self.name = name\n",
    "        self.to_hit_modifier = to_hit_modifier\n",
    "        self.damage_dice_type = damage_dice_type\n",
    "        self.number_damage_dice = number_damage_dice\n",
    "        self.damage_modifier = damage_modifier\n",
    "        self.number_targets = number_targets \n",
    "        self.attack_save_attribute = attack_save_attribute\n",
    "        self.attack_save_difficulty = attack_save_difficulty\n",
    "        self.has_advantage = has_advantage;\n",
    "        \n",
    "    def __repr__(self):\n",
    "        return json.dumps(self, default=jsonDefault, indent=4)\n",
    "    def add_record_as_data(self,_record):\n",
    "        self.__dict__.update(_record.__dict__)\n",
    "    def add_record_as_attr(self,_record):\n",
    "        self.record = _record\n",
    "    \n",
    "    \n",
    "class Ability_Scores:\n",
    "    def __new__(cls, *args, **kwargs):\n",
    "        return super().__new__(cls)\n",
    "        \n",
    "    def __init__(self,strength=0,dexterity=0,constitution=0,intelligence=0,wisdom=0,charisma=0):\n",
    "        self.strength = strength\n",
    "        self.dexterity = dexterity\n",
    "        self.constitution = constitution\n",
    "        self.intelligence = intelligence\n",
    "        self.wisdom = wisdom\n",
    "        self.charisma = charisma\n",
    "\n",
    "    def __repr__(self):\n",
    "        return json.dumps(self, default=jsonDefault, indent=4)\n",
    "    def add_record_as_data(self,_record):\n",
    "        self.__dict__.update(_record.__dict__)\n",
    "    def add_record_as_attr(self,_record):\n",
    "        self.record = _record\n",
    "\n",
    "\n",
    "class Actor:\n",
    "    PLAYER = \"player\"\n",
    "    MONSTER = \"monster\"\n",
    "    \n",
    "    def __new__(cls, *args, **kwargs):\n",
    "        return super().__new__(cls)\n",
    "    def __init__(self, name=\"unnamed\", role=\"unknown\", hit_points=0, armor_class=0, ability_scores=Ability_Scores(), attacks=[], initiative=0):\n",
    "        self.name = name\n",
    "        self.role = role\n",
    "        self.hit_points = hit_points\n",
    "        self.armor_class = armor_class\n",
    "        self.ability_scores = ability_scores\n",
    "        self.attacks = attacks\n",
    "        self.initiative = initiative\n",
    "        \n",
    "    def __repr__(self):\n",
    "        return json.dumps(self, default=jsonDefault, indent=4)\n",
    "    def add_record_as_data(self,_record):\n",
    "        self.__dict__.update(_record.__dict__)\n",
    "    def add_record_as_attr(self,_record):\n",
    "        self.record = _record\n",
    "\n"
   ]
  },
  {
   "cell_type": "code",
   "execution_count": 92,
   "id": "b433107b",
   "metadata": {
    "ExecuteTime": {
     "end_time": "2023-09-02T01:25:05.865903Z",
     "start_time": "2023-09-02T01:25:05.858714Z"
    }
   },
   "outputs": [],
   "source": [
    "goblin_ability_scores = Ability_Scores(8,14,10,10,8,8);\n",
    "goblin_attacks = [\n",
    "    Attack(name=\"scimitar\", to_hit_modifier=4, damage_dice_type=6, number_damage_dice=1,\n",
    "          damage_modifier=2)\n",
    "];\n",
    "goblin = Actor(name=\"goblin\", role=Actor.MONSTER, hit_points=7, armor_class=15,\n",
    "                    ability_scores=goblin_ability_scores,\n",
    "                    attacks = goblin_attacks)\n",
    "\n",
    "Monsters = [goblin];"
   ]
  },
  {
   "cell_type": "code",
   "execution_count": 93,
   "id": "dd63fad5",
   "metadata": {
    "ExecuteTime": {
     "end_time": "2023-09-02T01:25:06.424134Z",
     "start_time": "2023-09-02T01:25:06.418391Z"
    }
   },
   "outputs": [],
   "source": [
    "character_ability_scores = Ability_Scores(17, 14, 16, 7, 11, 8);\n",
    "character_attacks = [\n",
    "    Attack(name=\"Greataxe\", to_hit_modifier=5, damage_dice_type=12, number_damage_dice=1,\n",
    "          damage_modifier=3)\n",
    "];\n",
    "galdric = Actor(name=\"Galdric\", role=Actor.PLAYER, hit_points=15, armor_class=15,\n",
    "                    ability_scores=character_ability_scores,\n",
    "                    attacks = character_attacks)\n",
    "\n",
    "Players = [galdric];"
   ]
  },
  {
   "cell_type": "code",
   "execution_count": 94,
   "id": "cbed6721",
   "metadata": {
    "ExecuteTime": {
     "end_time": "2023-09-02T01:25:06.940334Z",
     "start_time": "2023-09-02T01:25:06.935675Z"
    }
   },
   "outputs": [
    {
     "name": "stdout",
     "output_type": "stream",
     "text": [
      "[[{\n",
      "    \"name\": \"goblin\",\n",
      "    \"role\": \"monster\",\n",
      "    \"hit_points\": 7,\n",
      "    \"armor_class\": 15,\n",
      "    \"ability_scores\": {\n",
      "        \"strength\": 8,\n",
      "        \"dexterity\": 14,\n",
      "        \"constitution\": 10,\n",
      "        \"intelligence\": 10,\n",
      "        \"wisdom\": 8,\n",
      "        \"charisma\": 8\n",
      "    },\n",
      "    \"attacks\": [\n",
      "        {\n",
      "            \"name\": \"scimitar\",\n",
      "            \"to_hit_modifier\": 4,\n",
      "            \"damage_dice_type\": 6,\n",
      "            \"number_damage_dice\": 1,\n",
      "            \"damage_modifier\": 2,\n",
      "            \"number_targets\": 1,\n",
      "            \"attack_save_attribute\": \"none\",\n",
      "            \"attack_save_difficulty\": 0,\n",
      "            \"has_advantage\": false\n",
      "        }\n",
      "    ],\n",
      "    \"initiative\": 0\n",
      "}], [{\n",
      "    \"name\": \"Galdric\",\n",
      "    \"role\": \"player\",\n",
      "    \"hit_points\": 15,\n",
      "    \"armor_class\": 15,\n",
      "    \"ability_scores\": {\n",
      "        \"strength\": 17,\n",
      "        \"dexterity\": 14,\n",
      "        \"constitution\": 16,\n",
      "        \"intelligence\": 7,\n",
      "        \"wisdom\": 11,\n",
      "        \"charisma\": 8\n",
      "    },\n",
      "    \"attacks\": [\n",
      "        {\n",
      "            \"name\": \"Greataxe\",\n",
      "            \"to_hit_modifier\": 5,\n",
      "            \"damage_dice_type\": 12,\n",
      "            \"number_damage_dice\": 1,\n",
      "            \"damage_modifier\": 3,\n",
      "            \"number_targets\": 1,\n",
      "            \"attack_save_attribute\": \"none\",\n",
      "            \"attack_save_difficulty\": 0,\n",
      "            \"has_advantage\": false\n",
      "        }\n",
      "    ],\n",
      "    \"initiative\": 0\n",
      "}]]\n"
     ]
    }
   ],
   "source": [
    "Encounter = [Monsters, Players];"
   ]
  },
  {
   "cell_type": "code",
   "execution_count": null,
   "id": "70d57f80",
   "metadata": {},
   "outputs": [],
   "source": []
  }
 ],
 "metadata": {
  "kernelspec": {
   "display_name": "Python 3 (ipykernel)",
   "language": "python",
   "name": "python3"
  },
  "language_info": {
   "codemirror_mode": {
    "name": "ipython",
    "version": 3
   },
   "file_extension": ".py",
   "mimetype": "text/x-python",
   "name": "python",
   "nbconvert_exporter": "python",
   "pygments_lexer": "ipython3",
   "version": "3.9.7"
  },
  "toc": {
   "base_numbering": 1,
   "nav_menu": {},
   "number_sections": true,
   "sideBar": true,
   "skip_h1_title": false,
   "title_cell": "Table of Contents",
   "title_sidebar": "Contents",
   "toc_cell": false,
   "toc_position": {},
   "toc_section_display": true,
   "toc_window_display": false
  }
 },
 "nbformat": 4,
 "nbformat_minor": 5
}
