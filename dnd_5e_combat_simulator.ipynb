{
 "cells": [
  {
   "cell_type": "code",
   "execution_count": 1,
   "id": "4bbfc410",
   "metadata": {
    "ExecuteTime": {
     "end_time": "2023-09-10T07:13:48.055884Z",
     "start_time": "2023-09-10T07:13:46.167365Z"
    }
   },
   "outputs": [],
   "source": [
    "import copy\n",
    "import logging\n",
    "import json\n",
    "import random\n",
    "\n",
    "from collections import OrderedDict\n",
    "def jsonDefault(OrderedDict):\n",
    "    return OrderedDict.__dict__\n",
    "\n",
    "import numpy as np\n",
    "import pandas as pd\n",
    "import matplotlib.pyplot as plt\n",
    "import matplotlib.dates as mdates\n",
    "import seaborn as sns\n",
    "\n",
    "%matplotlib inline"
   ]
  },
  {
   "cell_type": "code",
   "execution_count": 2,
   "id": "d7ebfd68",
   "metadata": {
    "ExecuteTime": {
     "end_time": "2023-09-10T07:13:48.064178Z",
     "start_time": "2023-09-10T07:13:48.058388Z"
    }
   },
   "outputs": [],
   "source": [
    "# create logger\n",
    "logger = logging.getLogger('application_logger')\n",
    "level = logging.NOTSET\n",
    "#level = logging.DEBUG\n",
    "logger.setLevel(level)\n",
    "\n",
    "# create console handler and set level to debug\n",
    "ch = logging.StreamHandler()\n",
    "ch.setLevel(level)\n",
    "\n",
    "# create formatter\n",
    "formatter = logging.Formatter('%(levelname)s %(funcName)s %(message)s')\n",
    "\n",
    "# add formatter to ch\n",
    "ch.setFormatter(formatter)\n",
    "\n",
    "# add ch to logger\n",
    "logger.addHandler(ch)"
   ]
  },
  {
   "cell_type": "code",
   "execution_count": 3,
   "id": "41b279d6",
   "metadata": {
    "ExecuteTime": {
     "end_time": "2023-09-10T07:13:48.080073Z",
     "start_time": "2023-09-10T07:13:48.067099Z"
    }
   },
   "outputs": [],
   "source": [
    "def roll_dice(number, die_type, modifier= 0):\n",
    "    roll = 0\n",
    "    for _ in range(number):\n",
    "        roll = roll + random.randint(1, die_type)\n",
    "    roll = roll + modifier\n",
    "    logger.debug(f\"{number}d{die_type}+{modifier} = {roll}\")\n",
    "    return roll"
   ]
  },
  {
   "cell_type": "code",
   "execution_count": 4,
   "id": "363f6364",
   "metadata": {
    "ExecuteTime": {
     "end_time": "2023-09-10T07:13:48.101723Z",
     "start_time": "2023-09-10T07:13:48.084390Z"
    }
   },
   "outputs": [],
   "source": [
    "Modifier = {\n",
    "    1: -5,\n",
    "    2: -4,\n",
    "    3: -4,\n",
    "    4: -3,\n",
    "    5: -3,    \n",
    "    6: -2,\n",
    "    7: -2,\n",
    "    8: -1,\n",
    "    9: -1,\n",
    "    10: 0,\n",
    "    11: 0,\n",
    "    12: 1,\n",
    "    13: 1,\n",
    "    14: 2,\n",
    "    15: 2,\n",
    "    16: 3,\n",
    "    17: 3,\n",
    "    18: 4,\n",
    "    19: 4,\n",
    "    20: 5,\n",
    "    21: 5,\n",
    "    22: 6,\n",
    "    23: 6,\n",
    "    24: 7,\n",
    "    25: 7,\n",
    "    26: 8,\n",
    "    27: 8,\n",
    "    28: 9,\n",
    "    29: 9,\n",
    "    30: 10\n",
    "}\n",
    "\n",
    "class Attack:\n",
    "    def __new__(cls, *args, **kwargs):\n",
    "        return super().__new__(cls)\n",
    "    def __init__(self, name=\"unnamed\", to_hit_modifier=0, damage_dice_type=1, number_damage_dice=1,\n",
    "                damage_modifier=-1, number_targets=1, attack_save_attribute=\"none\",\n",
    "                attack_save_difficulty=0, has_advantage=False):\n",
    "        self.name = name\n",
    "        self.to_hit_modifier = to_hit_modifier\n",
    "        self.damage_dice_type = damage_dice_type\n",
    "        self.number_damage_dice = number_damage_dice\n",
    "        self.damage_modifier = damage_modifier\n",
    "        self.number_targets = number_targets \n",
    "        self.attack_save_attribute = attack_save_attribute\n",
    "        self.attack_save_difficulty = attack_save_difficulty\n",
    "        self.has_advantage = has_advantage;\n",
    "        \n",
    "    def __repr__(self):\n",
    "        return f\"{hex(id(self))} - {json.dumps(self, default=jsonDefault, indent=4)}\"\n",
    "    def add_record_as_data(self,_record):\n",
    "        self.__dict__.update(_record.__dict__)\n",
    "    def add_record_as_attr(self,_record):\n",
    "        self.record = _record\n",
    "    \n",
    "    \n",
    "class Ability_Scores:\n",
    "    def __new__(cls, *args, **kwargs):\n",
    "        return super().__new__(cls)\n",
    "        \n",
    "    def __init__(self,strength=0,dexterity=0,constitution=0,intelligence=0,wisdom=0,charisma=0):\n",
    "        self.strength = strength\n",
    "        self.dexterity = dexterity\n",
    "        self.constitution = constitution\n",
    "        self.intelligence = intelligence\n",
    "        self.wisdom = wisdom\n",
    "        self.charisma = charisma\n",
    "\n",
    "    def __repr__(self):\n",
    "        return f\"{hex(id(self))} - {json.dumps(self, default=jsonDefault, indent=4)}\"\n",
    "    def add_record_as_data(self,_record):\n",
    "        self.__dict__.update(_record.__dict__)\n",
    "    def add_record_as_attr(self,_record):\n",
    "        self.record = _record\n",
    "\n",
    "\n",
    "class Actor:\n",
    "    PLAYER = \"player\"\n",
    "    MONSTER = \"monster\"\n",
    "    \n",
    "    def __new__(cls, *args, **kwargs):\n",
    "        return super().__new__(cls)\n",
    "    def __init__(self, name=\"unnamed\", role=\"unknown\", hit_points=0, armor_class=0, ability_scores=Ability_Scores(), attacks=[], initiative=0, initiative_modifier=0, targets=[]):\n",
    "        self.name = name\n",
    "        self.role = role\n",
    "        self.hit_points = hit_points\n",
    "        self.armor_class = armor_class\n",
    "        self.ability_scores = ability_scores\n",
    "        self.attacks = attacks\n",
    "        self.initiative = initiative\n",
    "        self.initiative_modifier = initiative_modifier;\n",
    "        self.targets = targets\n",
    "        \n",
    "    def __repr__(self):\n",
    "        return f\"{hex(id(self))} - {json.dumps(self, default=jsonDefault, indent=4)}\"\n",
    "    def add_record_as_data(self,_record):\n",
    "        self.__dict__.update(_record.__dict__)\n",
    "    def add_record_as_attr(self,_record):\n",
    "        self.record = _record\n",
    "\n",
    "class Combat:\n",
    "    def __new__(cls, *args, **kwargs):\n",
    "        return super().__new__(cls)\n",
    "    def __init__(self, monsters=[], players=[]):\n",
    "        self.alive = {\"monsters\":copy.deepcopy(monsters), \"players\":copy.deepcopy(players)}\n",
    "        self.dead = {\"monsters\":[], \"players\":[]}\n",
    "        self.stats = {\"monsters\":[], \"players\":[]}\n",
    "        \n",
    "        self.round = 0\n",
    "        \n",
    "    def __repr__(self):\n",
    "        return f\"{hex(id(self))} - {json.dumps(self, default=jsonDefault, indent=4)}\"\n",
    "    def add_record_as_data(self,_record):\n",
    "        self.__dict__.update(_record.__dict__)\n",
    "    def add_record_as_attr(self,_record):\n",
    "        self.record = _record\n",
    "        \n",
    "    def summary(self):\n",
    "        print(f\"number combat rounds: {self.round}\")\n",
    "        winners = \"monsters\"\n",
    "        if (len(self.alive[\"players\"]) > 0):\n",
    "            winners = \"players\"\n",
    "        print(f\"And the winners are the... {winners}\")\n",
    "        alive_players = len(self.alive[\"players\"])\n",
    "        alive_monsters = len(self.alive[\"monsters\"])\n",
    "        dead_players = len(self.dead[\"players\"])\n",
    "        dead_monsters = len(self.dead[\"monsters\"])\n",
    "        print(f\"number alive players: {alive_players}\")\n",
    "        print(f\"number alive monsters: {alive_monsters}\")\n",
    "        print(f\"number dead players: {dead_players}\")\n",
    "        print(f\"number dead monsters: {dead_monsters}\")\n"
   ]
  },
  {
   "cell_type": "code",
   "execution_count": 5,
   "id": "299a2806",
   "metadata": {
    "ExecuteTime": {
     "end_time": "2023-09-10T07:13:48.131309Z",
     "start_time": "2023-09-10T07:13:48.115733Z"
    }
   },
   "outputs": [],
   "source": [
    "goblin_ability_scores = Ability_Scores(8,14,10,10,8,8);\n",
    "goblin_attacks = [\n",
    "    Attack(name=\"scimitar\", to_hit_modifier=4, damage_dice_type=6, number_damage_dice=1,\n",
    "          damage_modifier=2)\n",
    "];\n",
    "goblin = Actor(name=\"goblin1\", role=Actor.MONSTER, hit_points=7, armor_class=15,\n",
    "                    ability_scores=goblin_ability_scores,\n",
    "                    attacks = goblin_attacks)\n",
    "goblin2 = Actor(name=\"goblin2\", role=Actor.MONSTER, hit_points=7, armor_class=15,\n",
    "                    ability_scores=goblin_ability_scores,\n",
    "                    attacks = goblin_attacks)\n",
    "goblin3 = Actor(name=\"goblin3\", role=Actor.MONSTER, hit_points=7, armor_class=15,\n",
    "                    ability_scores=goblin_ability_scores,\n",
    "                    attacks = goblin_attacks)\n",
    "goblin4 = Actor(name=\"goblin4\", role=Actor.MONSTER, hit_points=7, armor_class=15,\n",
    "                    ability_scores=goblin_ability_scores,\n",
    "                    attacks = goblin_attacks)\n",
    "\n",
    "monsters = [goblin, goblin2, goblin3, goblin4];"
   ]
  },
  {
   "cell_type": "code",
   "execution_count": 6,
   "id": "64635e68",
   "metadata": {
    "ExecuteTime": {
     "end_time": "2023-09-10T07:13:48.156887Z",
     "start_time": "2023-09-10T07:13:48.141830Z"
    }
   },
   "outputs": [],
   "source": [
    "character_ability_scores = Ability_Scores(17, 14, 16, 7, 11, 8);\n",
    "character_attacks = [\n",
    "    Attack(name=\"Greataxe\", to_hit_modifier=5, damage_dice_type=12, number_damage_dice=1,\n",
    "          damage_modifier=3)\n",
    "];\n",
    "galdric = Actor(name=\"Galdric\", role=Actor.PLAYER, hit_points=15, armor_class=15,\n",
    "                    ability_scores=character_ability_scores,\n",
    "                    attacks = character_attacks)\n",
    "larry = Actor(name=\"Larry\", role=Actor.PLAYER, hit_points=15, armor_class=15,\n",
    "                    ability_scores=character_ability_scores,\n",
    "                    attacks = character_attacks)\n",
    "curley = Actor(name=\"Curley\", role=Actor.PLAYER, hit_points=15, armor_class=15,\n",
    "                    ability_scores=character_ability_scores,\n",
    "                    attacks = character_attacks)\n",
    "moe = Actor(name=\"Moe\", role=Actor.PLAYER, hit_points=15, armor_class=15,\n",
    "                    ability_scores=character_ability_scores,\n",
    "                    attacks = character_attacks)\n",
    "\n",
    "players = [galdric, larry, curley, moe];"
   ]
  },
  {
   "cell_type": "code",
   "execution_count": 7,
   "id": "6ceb2569",
   "metadata": {
    "ExecuteTime": {
     "end_time": "2023-09-10T07:13:48.166098Z",
     "start_time": "2023-09-10T07:13:48.159586Z"
    }
   },
   "outputs": [],
   "source": [
    "def roll_initiative(actors):\n",
    "    for actor in actors:\n",
    "        actor.initiative = roll_dice(1, 20, Modifier[actor.ability_scores.dexterity] + actor.initiative_modifier) + actor.ability_scores.dexterity/100"
   ]
  },
  {
   "cell_type": "code",
   "execution_count": 8,
   "id": "c746329e",
   "metadata": {
    "ExecuteTime": {
     "end_time": "2023-09-10T07:13:48.175014Z",
     "start_time": "2023-09-10T07:13:48.168381Z"
    }
   },
   "outputs": [],
   "source": [
    "def sort_actors(actor):\n",
    "  return actor.initiative"
   ]
  },
  {
   "cell_type": "code",
   "execution_count": 9,
   "id": "90539a8e",
   "metadata": {
    "ExecuteTime": {
     "end_time": "2023-09-10T07:13:48.188383Z",
     "start_time": "2023-09-10T07:13:48.177885Z"
    }
   },
   "outputs": [],
   "source": [
    "def get_names(actors):\n",
    "    names = []\n",
    "    for actor in actors:\n",
    "        names.append(actor.name)\n",
    "    return names"
   ]
  },
  {
   "cell_type": "code",
   "execution_count": 42,
   "id": "6497816c",
   "metadata": {
    "ExecuteTime": {
     "end_time": "2023-09-10T07:18:54.508802Z",
     "start_time": "2023-09-10T07:18:54.482277Z"
    }
   },
   "outputs": [
    {
     "name": "stdout",
     "output_type": "stream",
     "text": [
      "number combat rounds: 3\n",
      "And the winners are the... players\n",
      "number alive players: 4\n",
      "number alive monsters: 0\n",
      "number dead players: 0\n",
      "number dead monsters: 4\n"
     ]
    }
   ],
   "source": [
    "def simulate_combat(monsters, players):\n",
    "    combat = Combat(monsters, players)\n",
    "    \n",
    "    roll_initiative(combat.alive[\"players\"])\n",
    "    roll_initiative(combat.alive[\"monsters\"])\n",
    "\n",
    "    actors = combat.alive[\"players\"] + combat.alive[\"monsters\"] \n",
    "    actors.sort(key=sort_actors, reverse=True)\n",
    "    for actor in actors:\n",
    "        logger.debug(f\"{actor.name} - initiative: {actor.initiative}, hit_points: {actor.hit_points}\")\n",
    "\n",
    "    combat.round = 0;\n",
    "    battle_over = False\n",
    "    while not battle_over:\n",
    "        combat.round = combat.round + 1        \n",
    "        actors = combat.alive[\"players\"] + combat.alive[\"monsters\"]\n",
    "        actors.sort(key=sort_actors, reverse=True)\n",
    "\n",
    "        logger.info(f\"-------------------------------\")\n",
    "        logger.info(f\"Round {combat.round} .. FIGHT!!\")\n",
    "\n",
    "        for actor in actors:\n",
    "            logger.debug(f\"  {actor.name} - hit_points: {actor.hit_points}\")\n",
    "            \n",
    "        for actor in actors:\n",
    "                logger.debug(f\"----> {actor.name}'s turn\")\n",
    "                # if actor has a target, hit that target again\n",
    "                # if actor does not have a target, select a target randomly\n",
    "                if (actor.targets == [] ):\n",
    "                    logger.debug(f\"{actor.name} needs targets\")\n",
    "                    if (actor.role == Actor.PLAYER):\n",
    "                        target_list = combat.alive[\"monsters\"]\n",
    "                    else:\n",
    "                        target_list = combat.alive[\"players\"]\n",
    "                    # need to select N targets\n",
    "                    targets = [t.name for t in target_list]\n",
    "                    number_targets = 1\n",
    "                    for attack in actor.attacks:\n",
    "                        if (attack.number_targets > number_targets):\n",
    "                            number_targets = attack.number_targets\n",
    "                    if (len(targets) < number_targets):\n",
    "                        number_targets = len(targets)\n",
    "                    if (number_targets == 0):\n",
    "                        battle_over = True\n",
    "                        break\n",
    "                    \n",
    "                    targeted = []\n",
    "                    # get N targets, removing target from list when selected\n",
    "                    for n in range(number_targets):\n",
    "                        target_name = targets.pop(random.randrange(len(targets)))\n",
    "                        targeted.append([t for t in target_list if t.name == target_name][0])\n",
    "                    actor.targets = targeted\n",
    "                logger.debug(f\"{actor.name} is targeting {get_names(actor.targets)}\")\n",
    "                \n",
    "                # attack the targets\n",
    "                # remove target from list if dead, and deselect the target\n",
    "                for attack in actor.attacks:\n",
    "                    logger.debug(f\"executing their {attack.name} attack...\")\n",
    "                    for target in actor.targets:\n",
    "                        logger.debug(f\"... against {target.name}\")\n",
    "                        to_hit_roll = roll_dice(1, 20)\n",
    "                        if (attack.has_advantage):\n",
    "                            advantage_roll = roll_dice(1, 20)\n",
    "                            to_hit_roll = max(to_hit_roll, advantage_roll)\n",
    "                        critical_hit = (to_hit_roll == 20)\n",
    "\n",
    "                        # Todo: calculate effective armor class, e.g. resistance or immunity to damage\n",
    "                        to_hit_roll += attack.to_hit_modifier\n",
    "                        does_hit = to_hit_roll >= target.armor_class\n",
    "                        result = \"hits\" if does_hit else \"misses\"\n",
    "                        logic = \">=\" if does_hit else \"<\"\n",
    "\n",
    "                        if critical_hit:\n",
    "                            result = \"CRIT\"\n",
    "                            does_hit = True\n",
    "                            logic = \"still hits\"\n",
    "\n",
    "                        logger.debug(f\"... {result} ({to_hit_roll} to hit {logic} {target.armor_class} ac)\")\n",
    "                            \n",
    "                        if (does_hit):\n",
    "                            number_damage_dice = attack.number_damage_dice\n",
    "                            if (critical_hit):\n",
    "                                number_damage_dice = number_damage_dice * 2\n",
    "                            damage = roll_dice(number_damage_dice, attack.damage_dice_type, attack.damage_modifier)\n",
    "                            if (damage < 0):\n",
    "                                damage = 0\n",
    "                            #calculate damage\n",
    "                            logger.debug(f\"... does {damage} points of damage\")\n",
    "\n",
    "                            before_hit_points = target.hit_points\n",
    "                            target.hit_points = target.hit_points - damage\n",
    "                            logging.debug(f\"... {target.name} hit points before: {before_hit_points}, after: {target.hit_points}\")\n",
    "                        \n",
    "                        # remove this actor from the current list and the target list\n",
    "                        if (target.hit_points <= 0):\n",
    "                            logging.debug(f\"... {target.name} dies <---- XXXXXXXX\")\n",
    "                            for aactor in actors:\n",
    "                                aactor.targets = [a for a in aactor.targets if a.name != target.name]\n",
    "                            role = target.role + \"s\"\n",
    "                            combat.dead[role].append(target)\n",
    "                            combat.alive[role] = [a for a in combat.alive[role] if a.name != target.name]\n",
    "\n",
    "        if ((len(combat.alive[\"monsters\"]) == 0) or (len(combat.alive[\"players\"]) == 0)):\n",
    "            battle_over = True\n",
    "            \n",
    "    logger.info(f\"Batle over after {combat.round} rounds\")\n",
    "    return combat\n",
    "    \n",
    "combat = simulate_combat(monsters, players)\n",
    "combat.summary()"
   ]
  },
  {
   "cell_type": "code",
   "execution_count": 15,
   "id": "2782e800",
   "metadata": {
    "ExecuteTime": {
     "end_time": "2023-09-10T07:17:33.392112Z",
     "start_time": "2023-09-10T07:17:33.389024Z"
    }
   },
   "outputs": [],
   "source": [
    "logger.setLevel(logging.DEBUG)"
   ]
  },
  {
   "cell_type": "code",
   "execution_count": 17,
   "id": "403e4415",
   "metadata": {
    "ExecuteTime": {
     "end_time": "2023-09-10T07:17:49.322513Z",
     "start_time": "2023-09-10T07:17:49.319397Z"
    }
   },
   "outputs": [],
   "source": [
    "logger.setLevel(logging.NOTSET)"
   ]
  },
  {
   "cell_type": "code",
   "execution_count": null,
   "id": "eac8319a",
   "metadata": {},
   "outputs": [],
   "source": []
  }
 ],
 "metadata": {
  "kernelspec": {
   "display_name": "Python 3 (ipykernel)",
   "language": "python",
   "name": "python3"
  },
  "language_info": {
   "codemirror_mode": {
    "name": "ipython",
    "version": 3
   },
   "file_extension": ".py",
   "mimetype": "text/x-python",
   "name": "python",
   "nbconvert_exporter": "python",
   "pygments_lexer": "ipython3",
   "version": "3.9.7"
  },
  "toc": {
   "base_numbering": 1,
   "nav_menu": {},
   "number_sections": true,
   "sideBar": true,
   "skip_h1_title": false,
   "title_cell": "Table of Contents",
   "title_sidebar": "Contents",
   "toc_cell": false,
   "toc_position": {},
   "toc_section_display": true,
   "toc_window_display": false
  }
 },
 "nbformat": 4,
 "nbformat_minor": 5
}
